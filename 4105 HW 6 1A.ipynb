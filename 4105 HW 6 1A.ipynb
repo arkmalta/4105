import pandas as pd
from sklearn.model_selection import train_test_split
from sklearn.preprocessing import StandardScaler, MinMaxScaler
import tensorflow as tf
from tensorflow.keras.models import Sequential
from tensorflow.keras.layers import Dense, Input
from tensorflow.keras.optimizers import Adam
from sklearn.linear_model import LinearRegression

# Load the dataset
data = pd.read_csv('Housing.csv')

# Encode categorical variables
data = pd.get_dummies(data, drop_first=True)

# Separate features and target
X = data.drop('price', axis=1)
y = data['price']

# Split the dataset into training and validation sets
X_train, X_val, y_train, y_val = train_test_split(X, y, test_size=0.2, random_state=42)

# Standardize the features
scaler_X = StandardScaler()
X_train_scaled = scaler_X.fit_transform(X_train)
X_val_scaled = scaler_X.transform(X_val)

# Scale the target variable
scaler_y = MinMaxScaler()
y_train_scaled = scaler_y.fit_transform(y_train.values.reshape(-1, 1)).flatten()
y_val_scaled = scaler_y.transform(y_val.values.reshape(-1, 1)).flatten()

# Define the FCNN model with corrected input layer
model = Sequential()
model.add(Input(shape=(X_train.shape[1],)))
model.add(Dense(32, activation='relu', kernel_regularizer=tf.keras.regularizers.l2(0.01)))
model.add(Dense(32, activation='relu', kernel_regularizer=tf.keras.regularizers.l2(0.01)))
model.add(Dense(1))

# Compile the model with a lower learning rate
model.compile(optimizer=Adam(learning_rate=0.001), loss='mean_squared_error')

# Train the model
history = model.fit(X_train_scaled, y_train_scaled, epochs=100, validation_data=(X_val_scaled, y_val_scaled), verbose=1)

# Train the Linear Regression model
lr_model = LinearRegression()
lr_model.fit(X_train_scaled, y_train)

# Number of trainable parameters in the FCNN
fcnn_params = model.count_params()

# Number of trainable parameters in Linear Regression
lr_params = X_train.shape[1] + 1  # Number of features + 1 (bias term)

print(f"Number of trainable parameters in FCNN: {fcnn_params}")
print(f"Number of trainable parameters in Linear Regression: {lr_params}")
